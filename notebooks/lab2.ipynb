{
 "cells": [
  {
   "cell_type": "markdown",
   "metadata": {},
   "source": [
    "<h2 style=\"text-align: center;\">\n",
    "Лабараторна робота №2 \n",
    "</h2>\n",
    "<h4 style=\"text-align: center;\">\n",
    "    Визначеняя елементи та фактори технічного впливу на системи навколошнього середовища та проведення оцінки небезпеки \n",
    "</h4>\n",
    "<h1></h1> \n",
    "\n",
    "    \n",
    "<div style=\"text-align: right;\">З предмету:</div>\n",
    "<div style=\"text-align: right;\">Основа професійної безпеки та здоров‘я   </div>\n",
    "\n",
    "<p></p>\n",
    "<div style=\"text-align: right;\">Стуеднт групи КН-56в:</div>\n",
    "<div style=\"text-align: right;\">Брайко Юрій Геннадійович</div>\n",
    "\n",
    "\n"
   ]
  },
  {
   "cell_type": "markdown",
   "metadata": {},
   "source": [
    "### Створення тестових данних"
   ]
  },
  {
   "cell_type": "code",
   "execution_count": 1,
   "metadata": {},
   "outputs": [],
   "source": [
    "records = [\n",
    "    [0,0,0,0,0,],\n",
    "    [1,2,10,5,10,],\n",
    "    [2,5,20,10,20,],\n",
    "    [3,7,30,15,40,],\n",
    "    [4,10,40,20,50,],\n",
    "    [5,30,50,25,60,],\n",
    "    [6,50,60,30,70,],\n",
    "    [7,70,65,35,80,],\n",
    "    [8,80,70,40,85,],\n",
    "    [9,85,75,45,90,],\n",
    "    [10,90,80,50,100,],\n",
    "]"
   ]
  },
  {
   "cell_type": "code",
   "execution_count": 3,
   "metadata": {},
   "outputs": [
    {
     "data": {
      "text/plain": [
       "[[0, 0, 0, 0, 0],\n",
       " [1, 2, 10, 5, 10],\n",
       " [2, 5, 20, 10, 20],\n",
       " [3, 7, 30, 15, 40],\n",
       " [4, 10, 40, 20, 50],\n",
       " [5, 30, 50, 25, 60],\n",
       " [6, 50, 60, 30, 70],\n",
       " [7, 70, 65, 35, 80],\n",
       " [8, 80, 70, 40, 85],\n",
       " [9, 85, 75, 45, 90],\n",
       " [10, 90, 80, 50, 100]]"
      ]
     },
     "execution_count": 3,
     "metadata": {},
     "output_type": "execute_result"
    }
   ],
   "source": [
    "records"
   ]
  },
  {
   "cell_type": "code",
   "execution_count": 4,
   "metadata": {},
   "outputs": [],
   "source": [
    "S = 10\n",
    "W = [0.3, 0.6, 0.1, 0.7]\n",
    "M = 100"
   ]
  },
  {
   "cell_type": "markdown",
   "metadata": {},
   "source": [
    "### Розрахунок значення цільової функції "
   ]
  },
  {
   "cell_type": "code",
   "execution_count": 5,
   "metadata": {},
   "outputs": [],
   "source": [
    "l = records[0]"
   ]
  },
  {
   "cell_type": "code",
   "execution_count": 10,
   "metadata": {},
   "outputs": [],
   "source": [
    "def calculate_target(invest_info):\n",
    "    c = invest_info[0]\n",
    "    invests = invest_info[1:]\n",
    "    return [c]+[((1-w)*c)/S + w*abs(M-c_m)/M for c_m, w in zip(invests, W)]"
   ]
  },
  {
   "cell_type": "code",
   "execution_count": 12,
   "metadata": {},
   "outputs": [],
   "source": [
    "target = [\n",
    "    calculate_target(row)\n",
    "    for row in records\n",
    "]"
   ]
  },
  {
   "cell_type": "code",
   "execution_count": 13,
   "metadata": {},
   "outputs": [
    {
     "data": {
      "text/plain": [
       "[[0, 0.3, 0.6, 0.1, 0.7],\n",
       " [1, 0.364, 0.5800000000000001, 0.185, 0.6599999999999999],\n",
       " [2, 0.42499999999999993, 0.5599999999999999, 0.27, 0.6200000000000001],\n",
       " [3, 0.48899999999999993, 0.54, 0.35500000000000004, 0.51],\n",
       " [4, 0.55, 0.52, 0.44, 0.47],\n",
       " [5, 0.5599999999999999, 0.5, 0.525, 0.43000000000000005],\n",
       " [6, 0.57, 0.48000000000000004, 0.6100000000000001, 0.39],\n",
       " [7, 0.58, 0.49, 0.6950000000000001, 0.3500000000000001],\n",
       " [8, 0.6199999999999999, 0.5, 0.78, 0.34500000000000003],\n",
       " [9, 0.675, 0.51, 0.865, 0.34],\n",
       " [10, 0.73, 0.52, 0.9500000000000001, 0.30000000000000004]]"
      ]
     },
     "execution_count": 13,
     "metadata": {},
     "output_type": "execute_result"
    }
   ],
   "source": [
    "target"
   ]
  },
  {
   "cell_type": "code",
   "execution_count": 14,
   "metadata": {},
   "outputs": [],
   "source": [
    "import pandas as pd "
   ]
  },
  {
   "cell_type": "code",
   "execution_count": 19,
   "metadata": {},
   "outputs": [
    {
     "data": {
      "text/html": [
       "<div>\n",
       "<style scoped>\n",
       "    .dataframe tbody tr th:only-of-type {\n",
       "        vertical-align: middle;\n",
       "    }\n",
       "\n",
       "    .dataframe tbody tr th {\n",
       "        vertical-align: top;\n",
       "    }\n",
       "\n",
       "    .dataframe thead th {\n",
       "        text-align: right;\n",
       "    }\n",
       "</style>\n",
       "<table border=\"1\" class=\"dataframe\">\n",
       "  <thead>\n",
       "    <tr style=\"text-align: right;\">\n",
       "      <th></th>\n",
       "      <th>0</th>\n",
       "      <th>1</th>\n",
       "      <th>2</th>\n",
       "      <th>3</th>\n",
       "      <th>4</th>\n",
       "    </tr>\n",
       "  </thead>\n",
       "  <tbody>\n",
       "    <tr>\n",
       "      <td>0</td>\n",
       "      <td>0</td>\n",
       "      <td>0</td>\n",
       "      <td>0</td>\n",
       "      <td>0</td>\n",
       "      <td>0</td>\n",
       "    </tr>\n",
       "    <tr>\n",
       "      <td>1</td>\n",
       "      <td>1</td>\n",
       "      <td>2</td>\n",
       "      <td>10</td>\n",
       "      <td>5</td>\n",
       "      <td>10</td>\n",
       "    </tr>\n",
       "    <tr>\n",
       "      <td>2</td>\n",
       "      <td>2</td>\n",
       "      <td>5</td>\n",
       "      <td>20</td>\n",
       "      <td>10</td>\n",
       "      <td>20</td>\n",
       "    </tr>\n",
       "    <tr>\n",
       "      <td>3</td>\n",
       "      <td>3</td>\n",
       "      <td>7</td>\n",
       "      <td>30</td>\n",
       "      <td>15</td>\n",
       "      <td>40</td>\n",
       "    </tr>\n",
       "    <tr>\n",
       "      <td>4</td>\n",
       "      <td>4</td>\n",
       "      <td>10</td>\n",
       "      <td>40</td>\n",
       "      <td>20</td>\n",
       "      <td>50</td>\n",
       "    </tr>\n",
       "    <tr>\n",
       "      <td>5</td>\n",
       "      <td>5</td>\n",
       "      <td>30</td>\n",
       "      <td>50</td>\n",
       "      <td>25</td>\n",
       "      <td>60</td>\n",
       "    </tr>\n",
       "    <tr>\n",
       "      <td>6</td>\n",
       "      <td>6</td>\n",
       "      <td>50</td>\n",
       "      <td>60</td>\n",
       "      <td>30</td>\n",
       "      <td>70</td>\n",
       "    </tr>\n",
       "    <tr>\n",
       "      <td>7</td>\n",
       "      <td>7</td>\n",
       "      <td>70</td>\n",
       "      <td>65</td>\n",
       "      <td>35</td>\n",
       "      <td>80</td>\n",
       "    </tr>\n",
       "    <tr>\n",
       "      <td>8</td>\n",
       "      <td>8</td>\n",
       "      <td>80</td>\n",
       "      <td>70</td>\n",
       "      <td>40</td>\n",
       "      <td>85</td>\n",
       "    </tr>\n",
       "    <tr>\n",
       "      <td>9</td>\n",
       "      <td>9</td>\n",
       "      <td>85</td>\n",
       "      <td>75</td>\n",
       "      <td>45</td>\n",
       "      <td>90</td>\n",
       "    </tr>\n",
       "    <tr>\n",
       "      <td>10</td>\n",
       "      <td>10</td>\n",
       "      <td>90</td>\n",
       "      <td>80</td>\n",
       "      <td>50</td>\n",
       "      <td>100</td>\n",
       "    </tr>\n",
       "  </tbody>\n",
       "</table>\n",
       "</div>"
      ],
      "text/plain": [
       "     0   1   2   3    4\n",
       "0    0   0   0   0    0\n",
       "1    1   2  10   5   10\n",
       "2    2   5  20  10   20\n",
       "3    3   7  30  15   40\n",
       "4    4  10  40  20   50\n",
       "5    5  30  50  25   60\n",
       "6    6  50  60  30   70\n",
       "7    7  70  65  35   80\n",
       "8    8  80  70  40   85\n",
       "9    9  85  75  45   90\n",
       "10  10  90  80  50  100"
      ]
     },
     "execution_count": 19,
     "metadata": {},
     "output_type": "execute_result"
    }
   ],
   "source": [
    "records_df = pd.DataFrame(records)\n",
    "records_df"
   ]
  },
  {
   "cell_type": "code",
   "execution_count": 20,
   "metadata": {},
   "outputs": [
    {
     "data": {
      "text/html": [
       "<div>\n",
       "<style scoped>\n",
       "    .dataframe tbody tr th:only-of-type {\n",
       "        vertical-align: middle;\n",
       "    }\n",
       "\n",
       "    .dataframe tbody tr th {\n",
       "        vertical-align: top;\n",
       "    }\n",
       "\n",
       "    .dataframe thead th {\n",
       "        text-align: right;\n",
       "    }\n",
       "</style>\n",
       "<table border=\"1\" class=\"dataframe\">\n",
       "  <thead>\n",
       "    <tr style=\"text-align: right;\">\n",
       "      <th></th>\n",
       "      <th>0</th>\n",
       "      <th>1</th>\n",
       "      <th>2</th>\n",
       "      <th>3</th>\n",
       "      <th>4</th>\n",
       "    </tr>\n",
       "  </thead>\n",
       "  <tbody>\n",
       "    <tr>\n",
       "      <td>0</td>\n",
       "      <td>0</td>\n",
       "      <td>0.300</td>\n",
       "      <td>0.60</td>\n",
       "      <td>0.100</td>\n",
       "      <td>0.700</td>\n",
       "    </tr>\n",
       "    <tr>\n",
       "      <td>1</td>\n",
       "      <td>1</td>\n",
       "      <td>0.364</td>\n",
       "      <td>0.58</td>\n",
       "      <td>0.185</td>\n",
       "      <td>0.660</td>\n",
       "    </tr>\n",
       "    <tr>\n",
       "      <td>2</td>\n",
       "      <td>2</td>\n",
       "      <td>0.425</td>\n",
       "      <td>0.56</td>\n",
       "      <td>0.270</td>\n",
       "      <td>0.620</td>\n",
       "    </tr>\n",
       "    <tr>\n",
       "      <td>3</td>\n",
       "      <td>3</td>\n",
       "      <td>0.489</td>\n",
       "      <td>0.54</td>\n",
       "      <td>0.355</td>\n",
       "      <td>0.510</td>\n",
       "    </tr>\n",
       "    <tr>\n",
       "      <td>4</td>\n",
       "      <td>4</td>\n",
       "      <td>0.550</td>\n",
       "      <td>0.52</td>\n",
       "      <td>0.440</td>\n",
       "      <td>0.470</td>\n",
       "    </tr>\n",
       "    <tr>\n",
       "      <td>5</td>\n",
       "      <td>5</td>\n",
       "      <td>0.560</td>\n",
       "      <td>0.50</td>\n",
       "      <td>0.525</td>\n",
       "      <td>0.430</td>\n",
       "    </tr>\n",
       "    <tr>\n",
       "      <td>6</td>\n",
       "      <td>6</td>\n",
       "      <td>0.570</td>\n",
       "      <td>0.48</td>\n",
       "      <td>0.610</td>\n",
       "      <td>0.390</td>\n",
       "    </tr>\n",
       "    <tr>\n",
       "      <td>7</td>\n",
       "      <td>7</td>\n",
       "      <td>0.580</td>\n",
       "      <td>0.49</td>\n",
       "      <td>0.695</td>\n",
       "      <td>0.350</td>\n",
       "    </tr>\n",
       "    <tr>\n",
       "      <td>8</td>\n",
       "      <td>8</td>\n",
       "      <td>0.620</td>\n",
       "      <td>0.50</td>\n",
       "      <td>0.780</td>\n",
       "      <td>0.345</td>\n",
       "    </tr>\n",
       "    <tr>\n",
       "      <td>9</td>\n",
       "      <td>9</td>\n",
       "      <td>0.675</td>\n",
       "      <td>0.51</td>\n",
       "      <td>0.865</td>\n",
       "      <td>0.340</td>\n",
       "    </tr>\n",
       "    <tr>\n",
       "      <td>10</td>\n",
       "      <td>10</td>\n",
       "      <td>0.730</td>\n",
       "      <td>0.52</td>\n",
       "      <td>0.950</td>\n",
       "      <td>0.300</td>\n",
       "    </tr>\n",
       "  </tbody>\n",
       "</table>\n",
       "</div>"
      ],
      "text/plain": [
       "     0      1     2      3      4\n",
       "0    0  0.300  0.60  0.100  0.700\n",
       "1    1  0.364  0.58  0.185  0.660\n",
       "2    2  0.425  0.56  0.270  0.620\n",
       "3    3  0.489  0.54  0.355  0.510\n",
       "4    4  0.550  0.52  0.440  0.470\n",
       "5    5  0.560  0.50  0.525  0.430\n",
       "6    6  0.570  0.48  0.610  0.390\n",
       "7    7  0.580  0.49  0.695  0.350\n",
       "8    8  0.620  0.50  0.780  0.345\n",
       "9    9  0.675  0.51  0.865  0.340\n",
       "10  10  0.730  0.52  0.950  0.300"
      ]
     },
     "execution_count": 20,
     "metadata": {},
     "output_type": "execute_result"
    }
   ],
   "source": [
    "target_df = pd.DataFrame(target)\n",
    "target_df"
   ]
  },
  {
   "cell_type": "markdown",
   "metadata": {},
   "source": [
    "### Відобразимо вкладу та кількості врятованих виробів "
   ]
  },
  {
   "cell_type": "code",
   "execution_count": 34,
   "metadata": {},
   "outputs": [
    {
     "data": {
      "text/plain": [
       "<matplotlib.axes._subplots.AxesSubplot at 0x7f30e6363c88>"
      ]
     },
     "execution_count": 34,
     "metadata": {},
     "output_type": "execute_result"
    },
    {
     "data": {
      "image/png": "[encoded data removed]",
      "text/plain": [
       "<Figure size 432x288 with 1 Axes>"
      ]
     },
     "metadata": {
      "needs_background": "light"
     },
     "output_type": "display_data"
    }
   ],
   "source": [
    "records_df[[1,2,3,4]].plot()"
   ]
  },
  {
   "cell_type": "markdown",
   "metadata": {},
   "source": [
    "### Відобразимо графік ресурсів та ризиків  "
   ]
  },
  {
   "cell_type": "code",
   "execution_count": 35,
   "metadata": {},
   "outputs": [
    {
     "data": {
      "text/plain": [
       "<matplotlib.axes._subplots.AxesSubplot at 0x7f30e30a8a20>"
      ]
     },
     "execution_count": 35,
     "metadata": {},
     "output_type": "execute_result"
    },
    {
     "data": {
      "image/png": "[encoded data removed]",
      "text/plain": [
       "<Figure size 432x288 with 1 Axes>"
      ]
     },
     "metadata": {
      "needs_background": "light"
     },
     "output_type": "display_data"
    }
   ],
   "source": [
    "target_df[[1,2,3,4]].plot()"
   ]
  },
  {
   "cell_type": "markdown",
   "metadata": {},
   "source": [
    "### Висновки\n",
    "\n",
    "В данній роботі я провів аналіз залежності кількості влкадів в певну систему безпеки та кількості врятованих одиниць товару. Як показали мої дослідження - 4 чистема захисту забезпечує набільш якісний захист, відображаючи лінійний ріст кількості збережених одиниць товару від вкладиних ресурсів. "
   ]
  },
  {
   "cell_type": "code",
   "execution_count": null,
   "metadata": {},
   "outputs": [],
   "source": []
  }
 ],
 "metadata": {
  "kernelspec": {
   "display_name": "Python 3",
   "language": "python",
   "name": "python3"
  },
  "language_info": {
   "codemirror_mode": {
    "name": "ipython",
    "version": 3
   },
   "file_extension": ".py",
   "mimetype": "text/x-python",
   "name": "python",
   "nbconvert_exporter": "python",
   "pygments_lexer": "ipython3",
   "version": "3.7.3"
  }
 },
 "nbformat": 4,
 "nbformat_minor": 4
}
