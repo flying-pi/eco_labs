{
 "cells": [
  {
   "cell_type": "markdown",
   "metadata": {},
   "source": [
    "<h2 style=\"text-align: center;\">\n",
    "Лабараторна робота №1  \n",
    "</h2>\n",
    "<h4 style=\"text-align: center;\">\n",
    "    Оцінка небезпеки забруднення навколишнього середовища техногенними об'єктами\n",
    "</h4>\n",
    "<h1></h1> \n",
    "\n",
    "    \n",
    "<div style=\"text-align: right;\">З предмету:</div>\n",
    "<div style=\"text-align: right;\">Основа професійної безпеки та здоров‘я   </div>\n",
    "\n",
    "<p></p>\n",
    "<div style=\"text-align: right;\">Стуеднт групи КН-56в:</div>\n",
    "<div style=\"text-align: right;\">Брайко Юрій Геннадійович</div>\n",
    "\n",
    "\n"
   ]
  },
  {
   "cell_type": "markdown",
   "metadata": {},
   "source": [
    "#### Вибір джерела данних \n",
    "\n",
    "В якості джерела данних я обрав відкриті данні ресурсу `Canada Energy Regulator` доступні за [посиланням](https://www.cer-rec.gc.ca/sftnvrnmnt/sft/dshbrd/mp/dt-eng.html)\n",
    "\n",
    "Данний ресурс надає данні по інцедентам, котрі стались в газонафтовій транспортній системі Канади. \n",
    "\n",
    "Причини вибору джерела данних:\n",
    "* Відкритість \n",
    "* Надійність джерела данних\n",
    "* Наявність інформації прочас та тип інцеденту"
   ]
  },
  {
   "cell_type": "markdown",
   "metadata": {},
   "source": [
    "#### Завантажимо данні: "
   ]
  },
  {
   "cell_type": "code",
   "execution_count": 100,
   "metadata": {},
   "outputs": [
    {
     "name": "stderr",
     "output_type": "stream",
     "text": [
      "--2019-10-22 23:02:39--  https://www.cer-rec.gc.ca/sftnvrnmnt/sft/dshbrd/mp/dt/2019-09-30ncdnt-eng.csv\n",
      "Resolving www.cer-rec.gc.ca (www.cer-rec.gc.ca)... 198.103.162.169\n",
      "Connecting to www.cer-rec.gc.ca (www.cer-rec.gc.ca)|198.103.162.169|:443... connected.\n",
      "HTTP request sent, awaiting response... 200 OK\n",
      "Length: 715132 (698K) [application/octet-stream]\n",
      "Saving to: ‘./lab1_input.csv’\n",
      "\n",
      "     0K .......... .......... .......... .......... ..........  7%  253K 3s\n",
      "    50K .......... .......... .......... .......... .......... 14%  135K 3s\n",
      "   100K .......... .......... .......... .......... .......... 21% 3.55M 2s\n",
      "   150K .......... .......... .......... .......... .......... 28%  262K 2s\n",
      "   200K .......... .......... .......... .......... .......... 35%  290K 2s\n",
      "   250K .......... .......... .......... .......... .......... 42% 1.40M 1s\n",
      "   300K .......... .......... .......... .......... .......... 50%  283K 1s\n",
      "   350K .......... .......... .......... .......... .......... 57% 5.33M 1s\n",
      "   400K .......... .......... .......... .......... .......... 64%  270K 1s\n",
      "   450K .......... .......... .......... .......... .......... 71%  308K 1s\n",
      "   500K .......... .......... .......... .......... .......... 78% 1.65M 0s\n",
      "   550K .......... .......... .......... .......... .......... 85%  295K 0s\n",
      "   600K .......... .......... .......... .......... .......... 93% 2.33M 0s\n",
      "   650K .......... .......... .......... .......... ........  100%  317K=1.9s\n",
      "\n",
      "2019-10-22 23:02:42 (370 KB/s) - ‘./lab1_input.csv’ saved [715132/715132]\n",
      "\n"
     ]
    }
   ],
   "source": [
    "%%bash\n",
    "wget https://www.cer-rec.gc.ca/sftnvrnmnt/sft/dshbrd/mp/dt/2019-09-30ncdnt-eng.csv  -O ./lab1_input.csv\n"
   ]
  },
  {
   "cell_type": "code",
   "execution_count": 35,
   "metadata": {},
   "outputs": [],
   "source": [
    "import pandas as pd "
   ]
  },
  {
   "cell_type": "markdown",
   "metadata": {},
   "source": [
    "### Переглянемо завантажений датасет "
   ]
  },
  {
   "cell_type": "code",
   "execution_count": 104,
   "metadata": {},
   "outputs": [
    {
     "data": {
      "text/html": [
       "<div>\n",
       "<style scoped>\n",
       "    .dataframe tbody tr th:only-of-type {\n",
       "        vertical-align: middle;\n",
       "    }\n",
       "\n",
       "    .dataframe tbody tr th {\n",
       "        vertical-align: top;\n",
       "    }\n",
       "\n",
       "    .dataframe thead th {\n",
       "        text-align: right;\n",
       "    }\n",
       "</style>\n",
       "<table border=\"1\" class=\"dataframe\">\n",
       "  <thead>\n",
       "    <tr style=\"text-align: right;\">\n",
       "      <th></th>\n",
       "      <th>Incident Number</th>\n",
       "      <th>Incident Types</th>\n",
       "      <th>Reported Date</th>\n",
       "      <th>Nearest Populated Centre</th>\n",
       "      <th>Province</th>\n",
       "      <th>Company</th>\n",
       "      <th>Status</th>\n",
       "      <th>Latitude</th>\n",
       "      <th>Longitude</th>\n",
       "      <th>Approximate Volume Released (m³)</th>\n",
       "      <th>Substance</th>\n",
       "      <th>Release Type</th>\n",
       "      <th>Significant</th>\n",
       "      <th>Year</th>\n",
       "      <th>What Happened</th>\n",
       "      <th>Why It Happened</th>\n",
       "    </tr>\n",
       "  </thead>\n",
       "  <tbody>\n",
       "    <tr>\n",
       "      <td>0</td>\n",
       "      <td>INC2007-097</td>\n",
       "      <td>Release of Substance</td>\n",
       "      <td>2008-01-02</td>\n",
       "      <td>Grande Prairie</td>\n",
       "      <td>Alberta</td>\n",
       "      <td>Alliance Pipeline Ltd.</td>\n",
       "      <td>Closed</td>\n",
       "      <td>54.84000</td>\n",
       "      <td>-118.650000</td>\n",
       "      <td>Not Provided</td>\n",
       "      <td>Natural Gas - Sweet</td>\n",
       "      <td>Gas</td>\n",
       "      <td>No</td>\n",
       "      <td>2008</td>\n",
       "      <td>Corrosion and Cracking</td>\n",
       "      <td>Maintenance</td>\n",
       "    </tr>\n",
       "    <tr>\n",
       "      <td>1</td>\n",
       "      <td>INC2008-001</td>\n",
       "      <td>Release of Substance</td>\n",
       "      <td>2008-01-02</td>\n",
       "      <td>Cromer</td>\n",
       "      <td>Manitoba</td>\n",
       "      <td>Enbridge Pipelines Inc.</td>\n",
       "      <td>Closed</td>\n",
       "      <td>49.73135</td>\n",
       "      <td>-101.235570</td>\n",
       "      <td>8.0000</td>\n",
       "      <td>Crude Oil - Sweet</td>\n",
       "      <td>Liquid</td>\n",
       "      <td>No</td>\n",
       "      <td>2008</td>\n",
       "      <td>Corrosion and Cracking</td>\n",
       "      <td>Maintenance</td>\n",
       "    </tr>\n",
       "    <tr>\n",
       "      <td>2</td>\n",
       "      <td>INC2008-004</td>\n",
       "      <td>Release of Substance</td>\n",
       "      <td>2008-01-23</td>\n",
       "      <td>Cromer</td>\n",
       "      <td>Manitoba</td>\n",
       "      <td>Enbridge Pipelines Inc.</td>\n",
       "      <td>Closed</td>\n",
       "      <td>49.73135</td>\n",
       "      <td>-101.235570</td>\n",
       "      <td>100.0000</td>\n",
       "      <td>Crude Oil - Sweet</td>\n",
       "      <td>Liquid</td>\n",
       "      <td>No</td>\n",
       "      <td>2008</td>\n",
       "      <td>Equipment Failure</td>\n",
       "      <td>Maintenance</td>\n",
       "    </tr>\n",
       "    <tr>\n",
       "      <td>3</td>\n",
       "      <td>INC2008-008</td>\n",
       "      <td>Release of Substance</td>\n",
       "      <td>2008-01-29</td>\n",
       "      <td>Fort Nelson</td>\n",
       "      <td>British Columbia</td>\n",
       "      <td>Westcoast Energy Inc., carrying on business as...</td>\n",
       "      <td>Closed</td>\n",
       "      <td>58.01200</td>\n",
       "      <td>-122.694333</td>\n",
       "      <td>Not Provided</td>\n",
       "      <td>Natural Gas - Sweet</td>\n",
       "      <td>Gas</td>\n",
       "      <td>No</td>\n",
       "      <td>2008</td>\n",
       "      <td>Defect and Deterioration</td>\n",
       "      <td>Maintenance</td>\n",
       "    </tr>\n",
       "    <tr>\n",
       "      <td>4</td>\n",
       "      <td>INC2008-009</td>\n",
       "      <td>Release of Substance, Adverse Environmental Ef...</td>\n",
       "      <td>2008-01-29</td>\n",
       "      <td>Taylor</td>\n",
       "      <td>British Columbia</td>\n",
       "      <td>Westcoast Energy Inc., carrying on business as...</td>\n",
       "      <td>Closed</td>\n",
       "      <td>56.14377</td>\n",
       "      <td>-120.516050</td>\n",
       "      <td>Not Provided</td>\n",
       "      <td>Potassium Hydroxide (caustic solution)</td>\n",
       "      <td>Miscellaneous</td>\n",
       "      <td>Yes</td>\n",
       "      <td>2008</td>\n",
       "      <td>Equipment Failure</td>\n",
       "      <td>Maintenance, Standards and Procedures, Tools a...</td>\n",
       "    </tr>\n",
       "  </tbody>\n",
       "</table>\n",
       "</div>"
      ],
      "text/plain": [
       "  Incident Number                                     Incident Types  \\\n",
       "0     INC2007-097                               Release of Substance   \n",
       "1     INC2008-001                               Release of Substance   \n",
       "2     INC2008-004                               Release of Substance   \n",
       "3     INC2008-008                               Release of Substance   \n",
       "4     INC2008-009  Release of Substance, Adverse Environmental Ef...   \n",
       "\n",
       "  Reported Date Nearest Populated Centre          Province  \\\n",
       "0    2008-01-02           Grande Prairie           Alberta   \n",
       "1    2008-01-02                   Cromer          Manitoba   \n",
       "2    2008-01-23                   Cromer          Manitoba   \n",
       "3    2008-01-29              Fort Nelson  British Columbia   \n",
       "4    2008-01-29                   Taylor  British Columbia   \n",
       "\n",
       "                                             Company  Status  Latitude  \\\n",
       "0                             Alliance Pipeline Ltd.  Closed  54.84000   \n",
       "1                            Enbridge Pipelines Inc.  Closed  49.73135   \n",
       "2                            Enbridge Pipelines Inc.  Closed  49.73135   \n",
       "3  Westcoast Energy Inc., carrying on business as...  Closed  58.01200   \n",
       "4  Westcoast Energy Inc., carrying on business as...  Closed  56.14377   \n",
       "\n",
       "    Longitude Approximate Volume Released (m³)  \\\n",
       "0 -118.650000                     Not Provided   \n",
       "1 -101.235570                           8.0000   \n",
       "2 -101.235570                         100.0000   \n",
       "3 -122.694333                     Not Provided   \n",
       "4 -120.516050                     Not Provided   \n",
       "\n",
       "                                Substance   Release Type Significant  Year  \\\n",
       "0                     Natural Gas - Sweet            Gas          No  2008   \n",
       "1                       Crude Oil - Sweet         Liquid          No  2008   \n",
       "2                       Crude Oil - Sweet         Liquid          No  2008   \n",
       "3                     Natural Gas - Sweet            Gas          No  2008   \n",
       "4  Potassium Hydroxide (caustic solution)  Miscellaneous         Yes  2008   \n",
       "\n",
       "              What Happened                                    Why It Happened  \n",
       "0    Corrosion and Cracking                                        Maintenance  \n",
       "1    Corrosion and Cracking                                        Maintenance  \n",
       "2         Equipment Failure                                        Maintenance  \n",
       "3  Defect and Deterioration                                        Maintenance  \n",
       "4         Equipment Failure  Maintenance, Standards and Procedures, Tools a...  "
      ]
     },
     "execution_count": 104,
     "metadata": {},
     "output_type": "execute_result"
    }
   ],
   "source": [
    "input = pd.read_csv('./lab1_input.csv', encoding='UTF-16LE', skiprows=1)\n",
    "input.head()"
   ]
  },
  {
   "cell_type": "code",
   "execution_count": 105,
   "metadata": {},
   "outputs": [
    {
     "data": {
      "text/plain": [
       "1323"
      ]
     },
     "execution_count": 105,
     "metadata": {},
     "output_type": "execute_result"
    }
   ],
   "source": [
    "len(input)"
   ]
  },
  {
   "cell_type": "code",
   "execution_count": 108,
   "metadata": {},
   "outputs": [
    {
     "data": {
      "text/plain": [
       "Index(['Incident Number', 'Incident Types', 'Reported Date',\n",
       "       'Nearest Populated Centre', 'Province', 'Company', 'Status', 'Latitude',\n",
       "       'Longitude', 'Approximate Volume Released (m³)', 'Substance',\n",
       "       'Release Type', 'Significant', 'Year', 'What Happened',\n",
       "       'Why It Happened'],\n",
       "      dtype='object')"
      ]
     },
     "execution_count": 108,
     "metadata": {},
     "output_type": "execute_result"
    }
   ],
   "source": [
    "input.columns"
   ]
  },
  {
   "cell_type": "code",
   "execution_count": 110,
   "metadata": {},
   "outputs": [
    {
     "data": {
      "text/plain": [
       "Maintenance                                                                   161\n",
       "Engineering and Planning                                                       30\n",
       "Human Factors                                                                  17\n",
       "Standards and Procedures                                                       11\n",
       "Tools and Equipment                                                             7\n",
       "Natural or Environmental Forces                                                 6\n",
       "Engineering and Planning, Maintenance                                           5\n",
       "Maintenance, Standards and Procedures                                           4\n",
       "Engineering and Planning, Tools and Equipment                                   3\n",
       "Inadequate Supervision, Maintenance                                             3\n",
       "Maintenance, Natural or Environmental Forces                                    2\n",
       "Inadequate Supervision                                                          2\n",
       "Maintenance, Tools and Equipment                                                2\n",
       "Engineering and Planning, Inadequate Procurement                                2\n",
       "Inadequate Supervision, Standards and Procedures                                1\n",
       "Failure in communication                                                        1\n",
       "To be determined                                                                1\n",
       "Engineering and Planning, Failure in communication, Inadequate Procurement      1\n",
       "Maintenance, Standards and Procedures, Tools and Equipment                      1\n",
       "Engineering and Planning, Standards and Procedures                              1\n",
       "Engineering and Planning, Inadequate Procurement, Maintenance                   1\n",
       "Name: Why It Happened, dtype: int64"
      ]
     },
     "execution_count": 110,
     "metadata": {},
     "output_type": "execute_result"
    }
   ],
   "source": [
    "input[input['What Happened']=='Equipment Failure']['Why It Happened'].value_counts()"
   ]
  },
  {
   "cell_type": "markdown",
   "metadata": {},
   "source": [
    "### Проаналізуємо типи інцедентів та відобразимо ті, частота яких була више середнього "
   ]
  },
  {
   "cell_type": "code",
   "execution_count": 119,
   "metadata": {},
   "outputs": [],
   "source": [
    "frequance_count = input['What Happened'].value_counts()"
   ]
  },
  {
   "cell_type": "code",
   "execution_count": 127,
   "metadata": {},
   "outputs": [
    {
     "data": {
      "text/plain": [
       "<matplotlib.axes._subplots.AxesSubplot at 0x7f8ec4585a20>"
      ]
     },
     "execution_count": 127,
     "metadata": {},
     "output_type": "execute_result"
    },
    {
     "data": {
      "image/png": "[encoded data removed]",
      "text/plain": [
       "<Figure size 432x288 with 1 Axes>"
      ]
     },
     "metadata": {
      "needs_background": "light"
     },
     "output_type": "display_data"
    }
   ],
   "source": [
    "frequance_count[frequance_count>frequance_count.mean()].plot.barh()"
   ]
  },
  {
   "cell_type": "markdown",
   "metadata": {},
   "source": [
    "Отож, якщо брати до уваги проблеми,  котрі підпадають під певну класифікацію, можна побачити, що найбільш частими є \n",
    "* Вихід з ладу обладнання \n",
    "* Чиники зовнішнього впливу\n",
    "* Корозія та поломка \n",
    "* Неправильна експлоатація \n",
    "* Дефекти та несправності \n",
    "* Зовнішні подразники та неправильна експлотація \n",
    "* Пошкодження чиниками навколишнього середовища "
   ]
  },
  {
   "cell_type": "markdown",
   "metadata": {},
   "source": [
    "### Проаналізуємо причини найбільш популярного інцеденту, пов'язано з несправністю обладнання"
   ]
  },
  {
   "cell_type": "code",
   "execution_count": 137,
   "metadata": {},
   "outputs": [
    {
     "data": {
      "text/plain": [
       "<matplotlib.axes._subplots.AxesSubplot at 0x7f8ec446ecc0>"
      ]
     },
     "execution_count": 137,
     "metadata": {},
     "output_type": "execute_result"
    },
    {
     "data": {
      "image/png": "[encoded data removed]",
      "text/plain": [
       "<Figure size 432x288 with 1 Axes>"
      ]
     },
     "metadata": {
      "needs_background": "light"
     },
     "output_type": "display_data"
    }
   ],
   "source": [
    "reasons = input[input['What Happened']=='Equipment Failure']\n",
    "reasons['Why It Happened'].value_counts().plot.barh()"
   ]
  },
  {
   "cell_type": "markdown",
   "metadata": {},
   "source": [
    "### Висновок: \n",
    "\n",
    "З проведеного дослідження видно,  що найбільша частина інцедентів сталась під час планових ремонтних робіт,  при тому, що інцедентів,  котрі трапились з людського чиника значно менше(близько 12.5 відсотків від кількості ремонтних робіт). З цього можна зробити висновок, що процеси проведення робіт з підтримки обладнання потребуют удосконалення та переробки, що дозволить скоротити кількість аварій в газотранспортній системі. "
   ]
  },
  {
   "cell_type": "code",
   "execution_count": null,
   "metadata": {},
   "outputs": [],
   "source": []
  }
 ],
 "metadata": {
  "kernelspec": {
   "display_name": "Python 3",
   "language": "python",
   "name": "python3"
  },
  "language_info": {
   "codemirror_mode": {
    "name": "ipython",
    "version": 3
   },
   "file_extension": ".py",
   "mimetype": "text/x-python",
   "name": "python",
   "nbconvert_exporter": "python",
   "pygments_lexer": "ipython3",
   "version": "3.7.3"
  }
 },
 "nbformat": 4,
 "nbformat_minor": 4
}
